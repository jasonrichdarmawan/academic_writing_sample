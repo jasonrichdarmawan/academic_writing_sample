{
 "cells": [
  {
   "cell_type": "markdown",
   "metadata": {},
   "source": [
    "# Reference\n",
    "1. https://docs.opencv.org/4.8.0/da/d6a/tutorial_trackbar.html"
   ]
  },
  {
   "cell_type": "code",
   "execution_count": 16,
   "metadata": {},
   "outputs": [
    {
     "name": "stdout",
     "output_type": "stream",
     "text": [
      "4.8.1\n"
     ]
    },
    {
     "data": {
      "text/plain": [
       "113"
      ]
     },
     "execution_count": 16,
     "metadata": {},
     "output_type": "execute_result"
    }
   ],
   "source": [
    "import cv2 as cv\n",
    "print(cv.getVersionString())\n",
    "from functools import partial\n",
    "\n",
    "class Args: \n",
    "    pass\n",
    "args = Args()\n",
    "args.input1 = \"LinuxLogo.jpg\"\n",
    "args.input2 = \"WindowsLogo.jpg\"\n",
    "\n",
    "src1 = cv.imread(cv.samples.findFile(args.input1))\n",
    "src1 = cv.resize(src1, (300,300))\n",
    "src2 = cv.imread(cv.samples.findFile(args.input2))\n",
    "src2 = cv.resize(src2, (300,300))\n",
    "if src1 is None:\n",
    "    print('Could not open or find the image: ', args.input1)\n",
    "    exit(0)\n",
    "if src2 is None:\n",
    "    print('Could not open or find the image: ', args.input2)\n",
    "    exit(0)\n",
    "\n",
    "alpha_slider_max = 100\n",
    "title_window = 'Linear Blend'\n",
    "\n",
    "def on_trackbar(\n",
    "        val,\n",
    "        src1,\n",
    "        src2\n",
    "    ):\n",
    "    alpha = val / alpha_slider_max\n",
    "    beta = ( 1.0 - alpha )\n",
    "    dst = cv.addWeighted(src1, alpha, src2, beta, 0.0)\n",
    "    cv.imshow(title_window, dst)\n",
    "\n",
    "cv.namedWindow(title_window)\n",
    "cv.createTrackbar(\n",
    "    'Alpha',\n",
    "    title_window,\n",
    "    0,\n",
    "    alpha_slider_max,\n",
    "    partial(on_trackbar, src1=src1, src2=src2)\n",
    ")\n",
    "# Show some stuff\n",
    "on_trackbar(0, src1=src1, src2=src2)\n",
    "# Wait until user press some key\n",
    "cv.waitKey()"
   ]
  }
 ],
 "metadata": {
  "kernelspec": {
   "display_name": "Python 3",
   "language": "python",
   "name": "python3"
  },
  "language_info": {
   "codemirror_mode": {
    "name": "ipython",
    "version": 3
   },
   "file_extension": ".py",
   "mimetype": "text/x-python",
   "name": "python",
   "nbconvert_exporter": "python",
   "pygments_lexer": "ipython3",
   "version": "3.9.6"
  }
 },
 "nbformat": 4,
 "nbformat_minor": 2
}
